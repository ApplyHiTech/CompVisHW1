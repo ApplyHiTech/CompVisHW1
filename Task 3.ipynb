{
 "cells": [
  {
   "cell_type": "markdown",
   "metadata": {},
   "source": [
    "# Task 3"
   ]
  },
  {
   "cell_type": "markdown",
   "metadata": {},
   "source": [
    "# Table of Contents\n",
    "- [Task 3.1](#Task 3.1)\n",
    "- [Task 3.2](#Task 3.2)\n",
    "- [Task 3.3](#Task 3.3)\n",
    "\n"
   ]
  },
  {
   "cell_type": "code",
   "execution_count": 3,
   "metadata": {
    "collapsed": true
   },
   "outputs": [],
   "source": [
    "import numpy as np\n",
    "import pandas as pd\n",
    "import math\n",
    "import matplotlib as mpl\n",
    "import matplotlib.pyplot as plt\n",
    "import scipy\n",
    "import random as r\n",
    "from scipy import ndimage\n",
    "from scipy.misc import toimage\n",
    "\n",
    "%matplotlib inline"
   ]
  },
  {
   "cell_type": "code",
   "execution_count": 4,
   "metadata": {
    "collapsed": true
   },
   "outputs": [],
   "source": [
    "#Read images\n",
    "from skimage.io import imread\n",
    "im_cameraman = imread(\"HW1/Images/Q1/cameraman.jpg\")\n",
    "im_house = imread(\"HW1/Images/Q1/house.jpg\")\n",
    "im_lena = imread(\"HW1/Images/Q1/lena.jpg\")\n",
    "\n",
    "#Convert to grayscale by using average of RGB\n",
    "def average(pixel):\n",
    "    return (int(pixel[0])+int(pixel[1])+int(pixel[2]))/3\n",
    "\n",
    "def rgb2gray(image):\n",
    "    gray = np.zeros((image.shape[0], image.shape[1])) # init 2D numpy array\n",
    "    for rownum in range(len(image)):\n",
    "        for colnum in range(len(image[rownum])):\n",
    "            gray[rownum][colnum] = average(image[rownum][colnum])\n",
    "\n",
    "    return gray\n",
    "\n",
    "im_cameraman_gray = rgb2gray(im_cameraman)\n",
    "im_house_gray = rgb2gray(im_house)\n",
    "im_lena_gray = rgb2gray(im_lena)"
   ]
  },
  {
   "cell_type": "markdown",
   "metadata": {},
   "source": [
    "# Task 3.1\n",
    "<a id='Task 3.1'></a>"
   ]
  },
  {
   "cell_type": "code",
   "execution_count": null,
   "metadata": {
    "collapsed": true
   },
   "outputs": [],
   "source": [
    "from skimage import feature\n",
    "from skimage import filters\n",
    "\n",
    "def apply_sobel(image,pixel_value):\n",
    "    edges = filters.sobel(image)\n",
    "    edges = global_threshold(edges,pixel_value)\n",
    "    \n",
    "    return edges\n",
    "\n",
    "def global_threshold(image,pixel_value):\n",
    "    \n",
    "    for rownum in range(len(image)):\n",
    "        for colnum in range(len(image[rownum])):\n",
    "            if image[rownum][colnum] > pixel_value:\n",
    "                image[rownum][colnum] = 255\n",
    "            else:\n",
    "                image[rownum][colnum] = 0\n",
    "                \n",
    "\n",
    "    return image\n",
    "\n",
    "\n",
    "def apply_gaussian_laplace(image,sigma,threshold): \n",
    "    \n",
    "    # Skiimage.ndimage.filters\n",
    "    edges = ndimage.filters.gaussian_laplace(image,sigma)\n",
    "    \n",
    "    # zero crossing + local thresholding\n",
    "    edges_after = zero_crossing_local_thresholding(edges,threshold)\n",
    "    \n",
    "    return edges_after\n",
    "\n",
    "def zero_crossing_local_thresholding(edges,threshold): \n",
    "    sol_image = np.zeros((edges.shape[0], edges.shape[1])) # init 2D numpy array\n",
    "    \n",
    "    #1. They should be done in a 3x3 block for every 3x3 block (apart from the borders of the image)\n",
    "    for rownum in range(len(edges)-2):\n",
    "        for colnum in range(len(edges[rownum])-2):\n",
    "            temp_3by3 = np.matrix([\n",
    "                                  [edges[rownum][colnum],edges[rownum][colnum+1],edges[rownum][colnum+2]],\n",
    "                                  [edges[rownum+1][colnum],edges[rownum+1][colnum+1],edges[rownum+1][colnum+2]],\n",
    "                                  [edges[rownum+2][colnum],edges[rownum+2][colnum+1],edges[rownum+2][colnum+2]]])\n",
    "            \n",
    "            #2. Zero is crossed when the minimum and the maximum of the block have different signs.\n",
    "            #3. If they have the same sign, or one of them is zero, zero was not crossed.\n",
    "            #4. A pixel passes the threshold if the difference between the maximum and\n",
    "            #   the minimum (MAX - MIN) in its 3x3 block is bigger than the threshold value.\n",
    "    \n",
    "            is_zero_crossed = is_crossed(temp_3by3,threshold)\n",
    "            \n",
    "            sol_image[rownum+1][colnum+1] = is_zero_crossed\n",
    "            \n",
    "    return sol_image\n",
    "\n",
    "def is_crossed(matrix,threshold):\n",
    "    min_val = np.min(matrix)\n",
    "    \n",
    "\n",
    "    max_val = np.max(matrix)\n",
    "    if (max_val-min_val < threshold) and ((min_val > 0 and max_val > 0) or (min_val <0 and max_val<0)):\n",
    "        return 0 #zero is not crossed\n",
    "    else:\n",
    "        return 1 #zero is crossed\n",
    "\n",
    "\n",
    "\n",
    "def apply_canny(image,sigma):\n",
    "    \n",
    "    # Compute the Canny filter for a value of sigma\n",
    "    edges = feature.canny(image, sigma)\n",
    "    return edges\n",
    "\n",
    "def show_canny_only(edges):\n",
    "    \n",
    "    # display results\n",
    "    fig, (ax2) = plt.subplots(nrows=1, ncols=1, figsize=(8, 3),\n",
    "                                        sharex=True, sharey=True)\n",
    "\n",
    "    ax2.imshow(edges1, cmap=plt.cm.gray)\n",
    "    ax2.axis('off')\n",
    "    ax2.set_title('Canny filter, $\\sigma=5$', fontsize=20)\n",
    "\n",
    "    fig.tight_layout()\n",
    "\n",
    "    plt.show()\n",
    "    pass\n",
    "    \n",
    "    \n",
    "\n",
    "    "
   ]
  },
  {
   "cell_type": "code",
   "execution_count": 14,
   "metadata": {
    "collapsed": false
   },
   "outputs": [
    {
     "data": {
      "text/plain": [
       "<matplotlib.image.AxesImage at 0x10bd9f190>"
      ]
     },
     "execution_count": 14,
     "metadata": {},
     "output_type": "execute_result"
    },
    {
     "data": {
      "image/png": "[encoded data removed]",
      "text/plain": [
       "<matplotlib.figure.Figure at 0x10b6e0390>"
      ]
     },
     "metadata": {},
     "output_type": "display_data"
    }
   ],
   "source": [
    "plt.imshow(apply_gaussian_laplace(im_cameraman_gray,10,5),cmap=plt.cm.gray)\n"
   ]
  },
  {
   "cell_type": "code",
   "execution_count": 15,
   "metadata": {
    "collapsed": false
   },
   "outputs": [
    {
     "data": {
      "text/plain": [
       "0"
      ]
     },
     "execution_count": 15,
     "metadata": {},
     "output_type": "execute_result"
    }
   ],
   "source": [
    "\n",
    "m_middle = np.matrix([[2,7,7],\n",
    "                      [5,7,3],\n",
    "                      [4,7,1]])\n",
    "is_crossed(m_middle,7)"
   ]
  },
  {
   "cell_type": "code",
   "execution_count": 16,
   "metadata": {
    "collapsed": false
   },
   "outputs": [
    {
     "ename": "TypeError",
     "evalue": "apply_gaussian_laplace() takes exactly 3 arguments (2 given)",
     "output_type": "error",
     "traceback": [
      "\u001b[0;31m---------------------------------------------------------------------------\u001b[0m",
      "\u001b[0;31mTypeError\u001b[0m                                 Traceback (most recent call last)",
      "\u001b[0;32m<ipython-input-16-9c14dd6ce7a2>\u001b[0m in \u001b[0;36m<module>\u001b[0;34m()\u001b[0m\n\u001b[1;32m      3\u001b[0m \u001b[0;31m#e3 = apply_canny(im_lena_gray)\u001b[0m\u001b[0;34m\u001b[0m\u001b[0;34m\u001b[0m\u001b[0m\n\u001b[1;32m      4\u001b[0m \u001b[0;31m#e4 = apply_sobel(im_cameraman_gray)\u001b[0m\u001b[0;34m\u001b[0m\u001b[0;34m\u001b[0m\u001b[0m\n\u001b[0;32m----> 5\u001b[0;31m \u001b[0me4\u001b[0m \u001b[0;34m=\u001b[0m \u001b[0mapply_gaussian_laplace\u001b[0m\u001b[0;34m(\u001b[0m\u001b[0mim_cameraman_gray\u001b[0m\u001b[0;34m,\u001b[0m\u001b[0;36m1\u001b[0m\u001b[0;34m)\u001b[0m\u001b[0;34m\u001b[0m\u001b[0m\n\u001b[0m\u001b[1;32m      6\u001b[0m \u001b[0;32mprint\u001b[0m \u001b[0me4\u001b[0m\u001b[0;34m\u001b[0m\u001b[0m\n\u001b[1;32m      7\u001b[0m \u001b[0mdf\u001b[0m \u001b[0;34m=\u001b[0m \u001b[0mpd\u001b[0m\u001b[0;34m.\u001b[0m\u001b[0mDataFrame\u001b[0m\u001b[0;34m(\u001b[0m\u001b[0me4\u001b[0m\u001b[0;34m)\u001b[0m\u001b[0;34m\u001b[0m\u001b[0m\n",
      "\u001b[0;31mTypeError\u001b[0m: apply_gaussian_laplace() takes exactly 3 arguments (2 given)"
     ]
    }
   ],
   "source": [
    "#e1 = apply_canny(im_cameraman_gray)\n",
    "#e2 = apply_canny(im_house_gray)\n",
    "#e3 = apply_canny(im_lena_gray)\n",
    "#e4 = apply_sobel(im_cameraman_gray)\n",
    "e4 = apply_gaussian_laplace(im_cameraman_gray,1)\n",
    "print e4\n",
    "df = pd.DataFrame(e4)\n",
    "df"
   ]
  },
  {
   "cell_type": "code",
   "execution_count": null,
   "metadata": {
    "collapsed": true
   },
   "outputs": [],
   "source": []
  },
  {
   "cell_type": "code",
   "execution_count": null,
   "metadata": {
    "collapsed": true
   },
   "outputs": [],
   "source": []
  }
 ],
 "metadata": {
  "kernelspec": {
   "display_name": "Python 2",
   "language": "python",
   "name": "python2"
  },
  "language_info": {
   "codemirror_mode": {
    "name": "ipython",
    "version": 2
   },
   "file_extension": ".py",
   "mimetype": "text/x-python",
   "name": "python",
   "nbconvert_exporter": "python",
   "pygments_lexer": "ipython2",
   "version": "2.7.10"
  }
 },
 "nbformat": 4,
 "nbformat_minor": 0
}
