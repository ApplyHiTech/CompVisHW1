{
 "cells": [
  {
   "cell_type": "markdown",
   "metadata": {},
   "source": [
    "# Task 3"
   ]
  },
  {
   "cell_type": "markdown",
   "metadata": {},
   "source": [
    "# Table of Contents\n",
    "- [Task 3A.1](#Task 3a.1)\n",
    "- [Task 3A.2](#Task 3a.2)\n",
    "- [Task 3A.3](#Task 3a.3)\n",
    "\n",
    "- [Task 3B.1](#Task 3b.1)\n",
    "- [Task 3B.2](#Task 3b.2)\n",
    "- [Task 3B.3](#Task 3b.3)\n",
    "- [Task 3B.4](#Task 3b.4)\n",
    "\n"
   ]
  },
  {
   "cell_type": "code",
   "execution_count": 12,
   "metadata": {
    "collapsed": true
   },
   "outputs": [],
   "source": [
    "import numpy as np\n",
    "import pandas as pd\n",
    "import math\n",
    "import matplotlib as mpl\n",
    "import matplotlib.pyplot as plt\n",
    "import scipy\n",
    "import random as r\n",
    "from scipy import ndimage\n",
    "from scipy.misc import toimage\n",
    "\n",
    "%matplotlib inline"
   ]
  },
  {
   "cell_type": "code",
   "execution_count": 16,
   "metadata": {
    "collapsed": false
   },
   "outputs": [],
   "source": [
    "#Read images\n",
    "i1=imread(\"HW1/Images/Q1/cameraman.jpg\")\n",
    "\n",
    "#Convert to grayscale by using average of RGB\n",
    "def average(pixel):\n",
    "    return (int(pixel[0])+int(pixel[1])+int(pixel[2]))/3\n",
    "\n",
    "def rgb2gray(image):\n",
    "    gray = np.zeros((image.shape[0], image.shape[1])) # init 2D numpy array\n",
    "    for rownum in range(len(image)):\n",
    "        for colnum in range(len(image[rownum])):\n",
    "            gray[rownum][colnum] = average(image[rownum][colnum])\n",
    "\n",
    "    return gray\n",
    "im_church_gray = rgb2gray(i1)\n",
    "#im_church_gray = rgb2gray(im_church)\n",
    "#im_golf_gray = rgb2gray(im_golf)\n",
    "#im_nuns_gray = rgb2gray(im_nuns)"
   ]
  },
  {
   "cell_type": "code",
   "execution_count": 21,
   "metadata": {
    "collapsed": false
   },
   "outputs": [],
   "source": [
    "from skimage.io import imread\n",
    "im_church = imread(\"HW1/Images/Q3/Church.jpg\")\n",
    "im_golf = imread(\"HW1/Images/Q3/Golf.jpg\")\n",
    "im_nuns = imread(\"HW1/Images/Q3/Nuns.jpg\")"
   ]
  },
  {
   "cell_type": "markdown",
   "metadata": {},
   "source": [
    "# Task 3A.1\n",
    "<a id='Task 3a.1'></a>"
   ]
  },
  {
   "cell_type": "code",
   "execution_count": 49,
   "metadata": {
    "collapsed": true
   },
   "outputs": [],
   "source": [
    "from skimage import feature\n",
    "from skimage import filters\n",
    "\n",
    "def apply_sobel(image,pixel_value):\n",
    "    edges = filters.sobel(image)\n",
    "    edges = global_threshold(edges,pixel_value)\n",
    "    \n",
    "    return edges\n",
    "\n",
    "def global_threshold(image,pixel_value):\n",
    "    \n",
    "    for rownum in range(len(image)):\n",
    "        for colnum in range(len(image[rownum])):\n",
    "            if image[rownum][colnum] > pixel_value:\n",
    "                image[rownum][colnum] = 255\n",
    "            else:\n",
    "                image[rownum][colnum] = 0\n",
    "                \n",
    "\n",
    "    return image\n",
    "\n",
    "\n",
    "def apply_gaussian_laplace(image,sigma,threshold): \n",
    "    \n",
    "    # Skiimage.ndimage.filters\n",
    "    edges = ndimage.filters.gaussian_laplace(image,sigma)\n",
    "    \n",
    "    # zero crossing + local thresholding\n",
    "    edges_after = zero_crossing_local_thresholding(edges,threshold)\n",
    "    \n",
    "    return edges_after\n",
    "\n",
    "def zero_crossing_local_thresholding(edges,threshold): \n",
    "    sol_image = np.zeros((edges.shape[0], edges.shape[1])) # init 2D numpy array\n",
    "    \n",
    "    #1. They should be done in a 3x3 block for every 3x3 block (apart from the borders of the image)\n",
    "    for rownum in range(len(edges)-2):\n",
    "        for colnum in range(len(edges[rownum])-2):\n",
    "            temp_3by3 = np.matrix([\n",
    "                                  [edges[rownum][colnum],edges[rownum][colnum+1],edges[rownum][colnum+2]],\n",
    "                                  [edges[rownum+1][colnum],edges[rownum+1][colnum+1],edges[rownum+1][colnum+2]],\n",
    "                                  [edges[rownum+2][colnum],edges[rownum+2][colnum+1],edges[rownum+2][colnum+2]]])\n",
    "            \n",
    "            #2. Zero is crossed when the minimum and the maximum of the block have different signs.\n",
    "            #3. If they have the same sign, or one of them is zero, zero was not crossed.\n",
    "            #4. A pixel passes the threshold if the difference between the maximum and\n",
    "            #   the minimum (MAX - MIN) in its 3x3 block is bigger than the threshold value.\n",
    "    \n",
    "            is_zero_crossed = is_crossed(temp_3by3,threshold)\n",
    "            \n",
    "            sol_image[rownum+1][colnum+1] = is_zero_crossed\n",
    "            \n",
    "    return sol_image\n",
    "\n",
    "def is_crossed(matrix,threshold):\n",
    "    min_val = np.min(matrix)\n",
    "    \n",
    "\n",
    "    max_val = np.max(matrix)\n",
    "    if (max_val-min_val > threshold) and ((min_val > 0 and max_val > 0) or (min_val <0 and max_val<0)):\n",
    "        return 0 #zero is not crossed\n",
    "    else:\n",
    "        return 1 #zero is crossed\n",
    "\n",
    "\n",
    "\n",
    "def apply_canny(image,sigma):\n",
    "    \n",
    "    # Compute the Canny filter for a value of sigma\n",
    "    edges = feature.canny(image, sigma)\n",
    "    return edges\n",
    "\n",
    "def show_canny_only(edges):\n",
    "    \n",
    "    # display results\n",
    "    fig, (ax2) = plt.subplots(nrows=1, ncols=1, figsize=(8, 3),\n",
    "                                        sharex=True, sharey=True)\n",
    "\n",
    "    ax2.imshow(edges1, cmap=plt.cm.gray)\n",
    "    ax2.axis('off')\n",
    "    ax2.set_title('Canny filter, $\\sigma=5$', fontsize=20)\n",
    "\n",
    "    fig.tight_layout()\n",
    "\n",
    "    plt.show()\n",
    "    pass\n",
    "    \n",
    "    \n",
    "\n",
    "    "
   ]
  },
  {
   "cell_type": "code",
   "execution_count": 32,
   "metadata": {
    "collapsed": false
   },
   "outputs": [
    {
     "data": {
      "text/plain": [
       "<matplotlib.image.AxesImage at 0x10e6a13d0>"
      ]
     },
     "execution_count": 32,
     "metadata": {},
     "output_type": "execute_result"
    },
    {
     "data": {
      "image/png": "[encoded data removed]",
      "text/plain": [
       "<matplotlib.figure.Figure at 0x10de65ad0>"
      ]
     },
     "metadata": {},
     "output_type": "display_data"
    }
   ],
   "source": [
    "apply_sobel(im_church,0)\n",
    "#apply_sobel(im_golf,0)\n",
    "#apply_sobel(im_nuns,0)\n",
    "\n",
    "plt.imshow(apply_sobel(im_church,0),cmap=plt.cm.gray)\n",
    "#apply_sobel(im_golf,10)\n",
    "#apply_sobel(im_nuns,10)\n",
    "\n",
    "#apply_sobel(im_church,20)\n",
    "#apply_sobel(im_golf,20)\n",
    "#apply_sobel(im_nuns,20)\n",
    "\n",
    "\n",
    "#a = plt.imshow(apply_gaussian_laplace(im_cameraman_gray,10,5),cmap=plt.cm.gray)\n"
   ]
  },
  {
   "cell_type": "code",
   "execution_count": 44,
   "metadata": {
    "collapsed": false
   },
   "outputs": [
    {
     "data": {
      "text/plain": [
       "<matplotlib.image.AxesImage at 0x10edaa310>"
      ]
     },
     "execution_count": 44,
     "metadata": {},
     "output_type": "execute_result"
    },
    {
     "data": {
      "image/png": "[encoded data removed]",
      "text/plain": [
       "<matplotlib.figure.Figure at 0x1115aac90>"
      ]
     },
     "metadata": {},
     "output_type": "display_data"
    }
   ],
   "source": [
    "#Manually edit canny sigma value\n",
    "image = im_golf\n",
    "sigma_value = 3.75\n",
    "plt.imshow(apply_canny(image,sigma_value),cmap=plt.cm.gray)\n"
   ]
  },
  {
   "cell_type": "code",
   "execution_count": 52,
   "metadata": {
    "collapsed": false
   },
   "outputs": [
    {
     "data": {
      "text/plain": [
       "<matplotlib.image.AxesImage at 0x11323ff90>"
      ]
     },
     "execution_count": 52,
     "metadata": {},
     "output_type": "execute_result"
    },
    {
     "data": {
      "image/png": "[encoded data removed]",
      "text/plain": [
       "<matplotlib.figure.Figure at 0x112372510>"
      ]
     },
     "metadata": {},
     "output_type": "display_data"
    }
   ],
   "source": [
    "#Manually edit Gaussian-Laplace\n",
    "image=im_church\n",
    "threshold = 0\n",
    "sigma_value = 2.75\n",
    "plt.imshow(apply_gaussian_laplace(image,sigma_value,threshold),cmap=plt.cm.gray)\n"
   ]
  },
  {
   "cell_type": "markdown",
   "metadata": {
    "collapsed": false
   },
   "source": [
    "# Task 3A.2\n",
    "\n",
    "<a id='Task 3a.2'></a>"
   ]
  },
  {
   "cell_type": "code",
   "execution_count": null,
   "metadata": {
    "collapsed": true
   },
   "outputs": [],
   "source": []
  },
  {
   "cell_type": "markdown",
   "metadata": {
    "collapsed": true
   },
   "source": [
    "# Task 3A.3\n",
    "\n",
    "<a id='Task 3a.3'></a>"
   ]
  },
  {
   "cell_type": "markdown",
   "metadata": {},
   "source": [
    "# Task 3B.1\n",
    "\n",
    "<a id='Task 3b.1'></a>"
   ]
  },
  {
   "cell_type": "markdown",
   "metadata": {},
   "source": [
    "# Task 3B.2\n",
    "\n",
    "<a id='Task 3b.2'></a>"
   ]
  },
  {
   "cell_type": "markdown",
   "metadata": {},
   "source": [
    "# Task 3B.3\n",
    "\n",
    "<a id='Task 3b.3'></a>"
   ]
  },
  {
   "cell_type": "markdown",
   "metadata": {},
   "source": [
    "# Task 3B.4\n",
    "\n",
    "<a id='Task 3b.4'></a>"
   ]
  },
  {
   "cell_type": "code",
   "execution_count": null,
   "metadata": {
    "collapsed": true
   },
   "outputs": [],
   "source": []
  }
 ],
 "metadata": {
  "kernelspec": {
   "display_name": "Python 2",
   "language": "python",
   "name": "python2"
  },
  "language_info": {
   "codemirror_mode": {
    "name": "ipython",
    "version": 2
   },
   "file_extension": ".py",
   "mimetype": "text/x-python",
   "name": "python",
   "nbconvert_exporter": "python",
   "pygments_lexer": "ipython2",
   "version": "2.7.10"
  }
 },
 "nbformat": 4,
 "nbformat_minor": 0
}
