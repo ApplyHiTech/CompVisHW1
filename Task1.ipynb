{
 "cells": [
  {
   "cell_type": "code",
   "execution_count": 133,
   "metadata": {
    "collapsed": false
   },
   "outputs": [],
   "source": [
    "import numpy as np\n",
    "import pandas as pd\n",
    "\n",
    "m = [[4, 1, 6, 1, 3],\n",
    "     [3, 2, 7, 7, 2],\n",
    "     [2 ,5 ,7, 3, 7],\n",
    "     [1, 4, 7 ,1 ,3],\n",
    "     [0 ,1 ,6 ,4 ,4]]\n",
    "numrows = len(m)    \n",
    "numcols = len(m[0])\n",
    "\n",
    "m_2=[[0,0,0,0,0,0,0],\n",
    "     [0,0,0,0,0,0,0],\n",
    "     [0,0,0,0,0,0,0],\n",
    "     [0,0,0,0,0,0,0],\n",
    "     [0,0,0,0,0,0,0],\n",
    "     [0,0,0,0,0,0,0],\n",
    "     [0,0,0,0,0,0,0]]\n",
    "\n",
    "#Copy 2D-Array\n",
    "for i in range(2, numrows+2):\n",
    "    for j in range(2,numcols+2):\n",
    "        m_2[i][j]=m[i-2][j-2]\n",
    "\n",
    "sol_mean=[   [0,0,0,0,0,0,0],\n",
    "             [0,0,0,0,0,0,0],\n",
    "             [0,0,0,0,0,0,0],\n",
    "             [0,0,0,0,0,0,0],\n",
    "             [0,0,0,0,0,0,0],\n",
    "             [0,0,0,0,0,0,0],\n",
    "             [0,0,0,0,0,0,0]]\n",
    "\n",
    "#Compute 3x3 mean filter\n",
    "for i in range(2,numrows+2):\n",
    "     for j in range(2,numcols+2):\n",
    "        sol_mean[i][j]=np.mean([\n",
    "                    m_2[i-2][j-2],m_2[i-2][j-1],m_2[i-2][j],\n",
    "                    m_2[i-1][j-2],m_2[i-1][j-1],m_2[i-1][j],\n",
    "                    m_2[i][j-2],m_2[i][j-1],m_2[i][j]])\n",
    "    \n",
    "            "
   ]
  },
  {
   "cell_type": "markdown",
   "metadata": {},
   "source": [
    "1) Convolve the following sub-image with a normalized 33 mean filter. What is the output?"
   ]
  },
  {
   "cell_type": "code",
   "execution_count": 134,
   "metadata": {
    "collapsed": false
   },
   "outputs": [
    {
     "name": "stdout",
     "output_type": "stream",
     "text": [
      "[[0, 0, 0, 0, 0, 0, 0], [0, 0, 0, 0, 0, 0, 0], [0, 0, 0.44444444444444442, 0.55555555555555558, 1.2222222222222223, 0.88888888888888884, 1.1111111111111112], [0, 0, 0.77777777777777779, 1.1111111111111112, 2.5555555555555554, 2.6666666666666665, 2.8888888888888888], [0, 0, 1.0, 1.8888888888888888, 4.1111111111111107, 4.333333333333333, 4.7777777777777777], [0, 0, 0.66666666666666663, 1.8888888888888888, 4.2222222222222223, 4.7777777777777777, 4.8888888888888893], [0, 0, 0.33333333333333331, 1.4444444444444444, 3.6666666666666665, 4.2222222222222223, 4.666666666666667]]\n"
     ]
    }
   ],
   "source": [
    "print sol_mean"
   ]
  },
  {
   "cell_type": "markdown",
   "metadata": {},
   "source": [
    "2) Redo the convolution with a median filter. "
   ]
  },
  {
   "cell_type": "code",
   "execution_count": 135,
   "metadata": {
    "collapsed": false
   },
   "outputs": [
    {
     "name": "stdout",
     "output_type": "stream",
     "text": [
      "[[0, 0, 0, 0, 0, 0, 0], [0, 0, 0, 0, 0, 0, 0], [0, 0, 0.0, 0.0, 0.0, 0.0, 0.0], [0, 0, 0.0, 0.0, 2.0, 1.0, 2.0], [0, 0, 0.0, 2.0, 4.0, 5.0, 6.0], [0, 0, 0.0, 2.0, 4.0, 5.0, 7.0], [0, 0, 0.0, 1.0, 4.0, 4.0, 4.0]]\n"
     ]
    }
   ],
   "source": [
    "#Compute 3x3 mean filter\n",
    "sol_median=[ [0,0,0,0,0,0,0],\n",
    "             [0,0,0,0,0,0,0],\n",
    "             [0,0,0,0,0,0,0],\n",
    "             [0,0,0,0,0,0,0],\n",
    "             [0,0,0,0,0,0,0],\n",
    "             [0,0,0,0,0,0,0],\n",
    "             [0,0,0,0,0,0,0]]\n",
    "\n",
    "for i in range(2,numrows+2):\n",
    "     for j in range(2,numcols+2):\n",
    "        sol_median[i][j]=np.median([\n",
    "                    m_2[i-2][j-2],m_2[i-2][j-1],m_2[i-2][j],\n",
    "                    m_2[i-1][j-2],m_2[i-1][j-1],m_2[i-1][j],\n",
    "                    m_2[i][j-2],m_2[i][j-1],m_2[i][j]])\n",
    "    \n",
    "print sol_median"
   ]
  },
  {
   "cell_type": "markdown",
   "metadata": {},
   "source": [
    "What is the difference from item 1?"
   ]
  },
  {
   "cell_type": "code",
   "execution_count": 141,
   "metadata": {
    "collapsed": false
   },
   "outputs": [
    {
     "ename": "TypeError",
     "evalue": "unsupported operand type(s) for -: 'int' and 'list'",
     "output_type": "error",
     "traceback": [
      "\u001b[0;31m---------------------------------------------------------------------------\u001b[0m",
      "\u001b[0;31mTypeError\u001b[0m                                 Traceback (most recent call last)",
      "\u001b[0;32m<ipython-input-141-ac70b985d516>\u001b[0m in \u001b[0;36m<module>\u001b[0;34m()\u001b[0m\n\u001b[1;32m      9\u001b[0m \u001b[0;32mfor\u001b[0m \u001b[0mi\u001b[0m \u001b[0;32min\u001b[0m \u001b[0mrange\u001b[0m\u001b[0;34m(\u001b[0m\u001b[0;36m0\u001b[0m\u001b[0;34m,\u001b[0m\u001b[0mlen\u001b[0m\u001b[0;34m(\u001b[0m\u001b[0msol_diff\u001b[0m\u001b[0;34m)\u001b[0m\u001b[0;34m)\u001b[0m\u001b[0;34m:\u001b[0m\u001b[0;34m\u001b[0m\u001b[0m\n\u001b[1;32m     10\u001b[0m     \u001b[0;32mfor\u001b[0m \u001b[0mj\u001b[0m \u001b[0;32min\u001b[0m \u001b[0mrange\u001b[0m\u001b[0;34m(\u001b[0m\u001b[0;36m0\u001b[0m\u001b[0;34m,\u001b[0m\u001b[0mlen\u001b[0m\u001b[0;34m(\u001b[0m\u001b[0msol_diff\u001b[0m\u001b[0;34m[\u001b[0m\u001b[0;36m0\u001b[0m\u001b[0;34m]\u001b[0m\u001b[0;34m)\u001b[0m\u001b[0;34m)\u001b[0m\u001b[0;34m:\u001b[0m\u001b[0;34m\u001b[0m\u001b[0m\n\u001b[0;32m---> 11\u001b[0;31m         \u001b[0msol_diff\u001b[0m\u001b[0;34m[\u001b[0m\u001b[0mi\u001b[0m\u001b[0;34m]\u001b[0m\u001b[0;34m[\u001b[0m\u001b[0mj\u001b[0m\u001b[0;34m]\u001b[0m \u001b[0;34m=\u001b[0m \u001b[0msol_mean\u001b[0m\u001b[0;34m[\u001b[0m\u001b[0mi\u001b[0m\u001b[0;34m]\u001b[0m\u001b[0;34m[\u001b[0m\u001b[0mj\u001b[0m\u001b[0;34m]\u001b[0m\u001b[0;34m-\u001b[0m\u001b[0msol\u001b[0m\u001b[0;34m-\u001b[0m\u001b[0mmedian\u001b[0m\u001b[0;34m[\u001b[0m\u001b[0mi\u001b[0m\u001b[0;34m]\u001b[0m\u001b[0;34m[\u001b[0m\u001b[0mj\u001b[0m\u001b[0;34m]\u001b[0m\u001b[0;34m\u001b[0m\u001b[0m\n\u001b[0m",
      "\u001b[0;31mTypeError\u001b[0m: unsupported operand type(s) for -: 'int' and 'list'"
     ]
    }
   ],
   "source": [
    "sol_diff=  [ [0,0,0,0,0,0,0],\n",
    "             [0,0,0,0,0,0,0],\n",
    "             [0,0,0,0,0,0,0],\n",
    "             [0,0,0,0,0,0,0],\n",
    "             [0,0,0,0,0,0,0],\n",
    "             [0,0,0,0,0,0,0],\n",
    "             [0,0,0,0,0,0,0]]\n",
    "\n",
    "for i in range(0,len(sol_diff)):\n",
    "    for j in range(0,len(sol_diff[0])):\n",
    "        sol_diff[i][j] = sol_mean[i][j]-sol-median[i][j]"
   ]
  },
  {
   "cell_type": "code",
   "execution_count": null,
   "metadata": {
    "collapsed": true
   },
   "outputs": [],
   "source": []
  }
 ],
 "metadata": {
  "kernelspec": {
   "display_name": "Python 2",
   "language": "python",
   "name": "python2"
  },
  "language_info": {
   "codemirror_mode": {
    "name": "ipython",
    "version": 2
   },
   "file_extension": ".py",
   "mimetype": "text/x-python",
   "name": "python",
   "nbconvert_exporter": "python",
   "pygments_lexer": "ipython2",
   "version": "2.7.10"
  }
 },
 "nbformat": 4,
 "nbformat_minor": 0
}
