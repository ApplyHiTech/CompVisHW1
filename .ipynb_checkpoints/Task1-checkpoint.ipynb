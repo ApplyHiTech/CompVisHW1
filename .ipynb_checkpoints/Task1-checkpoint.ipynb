{
 "cells": [
  {
   "cell_type": "code",
   "execution_count": 90,
   "metadata": {
    "collapsed": false
   },
   "outputs": [],
   "source": [
    "import numpy as np\n",
    "import pandas as pd\n",
    "import math\n",
    "import matplotlib as mpl\n",
    "import matplotlib.pyplot as plt\n",
    "import scipy\n",
    "from scipy import ndimage\n",
    "from scipy.misc import toimage\n",
    "\n",
    "m = [[4, 1, 6, 1, 3],\n",
    "     [3, 2, 7, 7, 2],\n",
    "     [2, 5, 7, 3, 7],\n",
    "     [1, 4, 7, 1, 3],\n",
    "     [0, 1, 6, 4, 4]]\n",
    "numrows = len(m)    \n",
    "numcols = len(m[0])\n",
    "\n",
    "m_2=[[0,0,0,0,0,0,0],\n",
    "     [0,0,0,0,0,0,0],\n",
    "     [0,0,0,0,0,0,0],\n",
    "     [0,0,0,0,0,0,0],\n",
    "     [0,0,0,0,0,0,0],\n",
    "     [0,0,0,0,0,0,0],\n",
    "     [0,0,0,0,0,0,0]]\n",
    "\n",
    "#Copy 2D-Array\n",
    "for i in range(2, numrows+2):\n",
    "    for j in range(2,numcols+2):\n",
    "        m_2[i][j]=m[i-2][j-2]\n",
    "\n",
    "sol_mean=[   [0,0,0,0,0,0,0],\n",
    "             [0,0,0,0,0,0,0],\n",
    "             [0,0,0,0,0,0,0],\n",
    "             [0,0,0,0,0,0,0],\n",
    "             [0,0,0,0,0,0,0],\n",
    "             [0,0,0,0,0,0,0],\n",
    "             [0,0,0,0,0,0,0]]\n",
    "\n",
    "#Compute 3x3 mean filter\n",
    "for i in range(2,numrows+2):\n",
    "     for j in range(2,numcols+2):\n",
    "        sol_mean[i][j]=np.mean([\n",
    "                    m_2[i-2][j-2],m_2[i-2][j-1],m_2[i-2][j],\n",
    "                    m_2[i-1][j-2],m_2[i-1][j-1],m_2[i-1][j],\n",
    "                    m_2[i][j-2],m_2[i][j-1],m_2[i][j]])\n",
    "    \n",
    "            "
   ]
  },
  {
   "cell_type": "markdown",
   "metadata": {},
   "source": [
    "# 1.1 Convolve the following sub-image with a normalized 33 mean filter. What is the output?"
   ]
  },
  {
   "cell_type": "code",
   "execution_count": 2,
   "metadata": {
    "collapsed": false
   },
   "outputs": [
    {
     "name": "stdout",
     "output_type": "stream",
     "text": [
      "[[0, 0, 0, 0, 0, 0, 0], [0, 0, 0, 0, 0, 0, 0], [0, 0, 0.44444444444444442, 0.55555555555555558, 1.2222222222222223, 0.88888888888888884, 1.1111111111111112], [0, 0, 0.77777777777777779, 1.1111111111111112, 2.5555555555555554, 2.6666666666666665, 2.8888888888888888], [0, 0, 1.0, 1.8888888888888888, 4.1111111111111107, 4.333333333333333, 4.7777777777777777], [0, 0, 0.66666666666666663, 1.8888888888888888, 4.2222222222222223, 4.7777777777777777, 4.8888888888888893], [0, 0, 0.33333333333333331, 1.4444444444444444, 3.6666666666666665, 4.2222222222222223, 4.666666666666667]]\n"
     ]
    }
   ],
   "source": [
    "print sol_mean"
   ]
  },
  {
   "cell_type": "markdown",
   "metadata": {},
   "source": [
    "# 1.2 Redo the convolution with a median filter. "
   ]
  },
  {
   "cell_type": "code",
   "execution_count": 3,
   "metadata": {
    "collapsed": false
   },
   "outputs": [
    {
     "name": "stdout",
     "output_type": "stream",
     "text": [
      "[[0, 0, 0, 0, 0, 0, 0], [0, 0, 0, 0, 0, 0, 0], [0, 0, 0.0, 0.0, 0.0, 0.0, 0.0], [0, 0, 0.0, 0.0, 2.0, 1.0, 2.0], [0, 0, 0.0, 2.0, 4.0, 5.0, 6.0], [0, 0, 0.0, 2.0, 4.0, 5.0, 7.0], [0, 0, 0.0, 1.0, 4.0, 4.0, 4.0]]\n"
     ]
    }
   ],
   "source": [
    "#Compute 3x3 mean filter\n",
    "sol_median=[ [0,0,0,0,0,0,0],\n",
    "             [0,0,0,0,0,0,0],\n",
    "             [0,0,0,0,0,0,0],\n",
    "             [0,0,0,0,0,0,0],\n",
    "             [0,0,0,0,0,0,0],\n",
    "             [0,0,0,0,0,0,0],\n",
    "             [0,0,0,0,0,0,0]]\n",
    "\n",
    "for i in range(2,numrows+2):\n",
    "     for j in range(2,numcols+2):\n",
    "        sol_median[i][j]=np.median([\n",
    "                    m_2[i-2][j-2],m_2[i-2][j-1],m_2[i-2][j],\n",
    "                    m_2[i-1][j-2],m_2[i-1][j-1],m_2[i-1][j],\n",
    "                    m_2[i][j-2],m_2[i][j-1],m_2[i][j]])\n",
    "    \n",
    "print sol_median"
   ]
  },
  {
   "cell_type": "markdown",
   "metadata": {},
   "source": [
    "What is the difference from item 1?"
   ]
  },
  {
   "cell_type": "code",
   "execution_count": 4,
   "metadata": {
    "collapsed": false
   },
   "outputs": [],
   "source": [
    "sol_diff=  [ [0,0,0,0,0,0,0],\n",
    "             [0,0,0,0,0,0,0],\n",
    "             [0,0,0,0,0,0,0],\n",
    "             [0,0,0,0,0,0,0],\n",
    "             [0,0,0,0,0,0,0],\n",
    "             [0,0,0,0,0,0,0],\n",
    "             [0,0,0,0,0,0,0]]\n",
    "\n",
    "for i in range(0,len(sol_diff)):\n",
    "    for j in range(0,len(sol_diff[0])):\n",
    "        sol_diff[i][j] = sol_mean[i][j]-sol_median[i][j]"
   ]
  },
  {
   "cell_type": "markdown",
   "metadata": {
    "collapsed": true
   },
   "source": [
    "# 1.3 For the same sub-image, find the gradient magnitude and gradient direction at the center entry using the Sobel operator."
   ]
  },
  {
   "cell_type": "code",
   "execution_count": 5,
   "metadata": {
    "collapsed": false
   },
   "outputs": [],
   "source": [
    "sobel_x =np.matrix([\n",
    "             [-1,0,1],\n",
    "             [-2,0,2],\n",
    "             [-1,0,1]])\n",
    "\n",
    "sobel_y =np.matrix([\n",
    "             [1,2,1],\n",
    "             [0,0,0],\n",
    "             [-1,-2,-1]])\n",
    "m_middle = np.matrix([[2,7,7],\n",
    "                    [5,7,3],\n",
    "                    [4,7,1]])\n",
    "def convolve(m,g):\n",
    "    return m[2].item(2)*g[0].item(0)+m[2].item(1)*g[0].item(1)+m[2].item(0)*g[0].item(2)+m[1].item(2)*g[1].item(0)+m[1].item(1)*g[1].item(1)+m[1].item(0)*g[1].item(2)+m[0].item(2)*g[2].item(0)+m[0].item(1)*g[2].item(1)+m[0].item(0)*g[2].item(2)\n",
    "\n",
    "def grad_magnitude(m):\n",
    "    g_x = convolve(m_middle,sobel_x)\n",
    "    g_y = convolve(m_middle,sobel_y)\n",
    "    return math.sqrt(math.pow(g_x,2)+math.pow(g_y,2))\n",
    "\n",
    "def grad_direction(m):\n",
    "    g_x = convolve(m_middle,sobel_x)\n",
    "    g_y = convolve(m_middle,sobel_y)\n",
    "    return math.atan(g_y/g_x)"
   ]
  },
  {
   "cell_type": "markdown",
   "metadata": {
    "collapsed": false
   },
   "source": [
    "# Gradient Magnitude\n"
   ]
  },
  {
   "cell_type": "code",
   "execution_count": 6,
   "metadata": {
    "collapsed": false
   },
   "outputs": [
    {
     "data": {
      "text/plain": [
       "4.47213595499958"
      ]
     },
     "execution_count": 6,
     "metadata": {},
     "output_type": "execute_result"
    }
   ],
   "source": [
    "grad_magnitude(m_middle)"
   ]
  },
  {
   "cell_type": "markdown",
   "metadata": {},
   "source": [
    "# Gradient Direction"
   ]
  },
  {
   "cell_type": "code",
   "execution_count": 7,
   "metadata": {
    "collapsed": false
   },
   "outputs": [
    {
     "data": {
      "text/plain": [
       "-1.1071487177940906"
      ]
     },
     "execution_count": 7,
     "metadata": {},
     "output_type": "execute_result"
    }
   ],
   "source": [
    "grad_direction(m_middle)"
   ]
  },
  {
   "cell_type": "code",
   "execution_count": 142,
   "metadata": {
    "collapsed": true
   },
   "outputs": [],
   "source": [
    "#1.4 -- Unsure how to solve.\n"
   ]
  },
  {
   "cell_type": "code",
   "execution_count": 143,
   "metadata": {
    "collapsed": false
   },
   "outputs": [],
   "source": [
    "\n"
   ]
  },
  {
   "cell_type": "code",
   "execution_count": 146,
   "metadata": {
    "collapsed": false
   },
   "outputs": [],
   "source": [
    "#1.5 -- implement the folowing Unsharp Masking:\n",
    "\n",
    "#Read images\n",
    "from skimage.io import imread\n",
    "im_cameraman = imread(\"HW1/Images/Q1/cameraman.jpg\")\n",
    "im_house = imread(\"HW1/Images/Q1/house.jpg\")\n",
    "im_lena = imread(\"HW1/Images/Q1/lena.jpg\")\n",
    "\n",
    "#Convert to greyscale by using average of RGB\n",
    "def average(pixel):\n",
    "    return (int(pixel[0])+int(pixel[1])+int(pixel[2]))/3\n",
    "\n",
    "def rgb2gray(image):\n",
    "    gray = np.zeros((image.shape[0], image.shape[1])) # init 2D numpy array\n",
    "    for rownum in range(len(image)):\n",
    "        for colnum in range(len(image[rownum])):\n",
    "            gray[rownum][colnum] = average(image[rownum][colnum])\n",
    "\n",
    "    return gray\n",
    "\n",
    "im_cameraman_gray = rgb2gray(im_cameraman)\n",
    "im_house_gray = rgb2gray(im_house)\n",
    "im_lena_gray = rgb2gray(im_lena)\n",
    "\n",
    "def unsharp_masking(image,sigma):\n",
    "    #apply gaussian filter to image with sigma\n",
    "    gauss_applied = scipy.ndimage.filters.gaussian_filter(image,sigma)\n",
    "    \n",
    "    #Unsharp Masking scheme based on formula from the question.\n",
    "    return 2*image - gauss_applied\n",
    "    "
   ]
  },
  {
   "cell_type": "code",
   "execution_count": 129,
   "metadata": {
    "collapsed": false
   },
   "outputs": [],
   "source": [
    "#sigma = 0.75\n",
    "im_cameraman_applied = unsharp_masking(im_cameraman_gray,0.75)\n",
    "im_house_applied = unsharp_masking(im_house_gray,0.75)\n",
    "im_lena_applied = unsharp_masking(im_lena_gray,0.75)\n",
    "\n",
    "\n",
    "#sigma = 2.5 \n",
    "im_cameraman_applied2 = unsharp_masking(im_cameraman_gray,2.5)\n",
    "im_house_applied2 = unsharp_masking(im_house_gray,2.5)\n",
    "im_lena_applied2 = unsharp_masking(im_lena_gray,2.5)\n",
    "\n"
   ]
  },
  {
   "cell_type": "code",
   "execution_count": 132,
   "metadata": {
    "collapsed": false
   },
   "outputs": [],
   "source": [
    "#Compare filters + results\n",
    "toimage(im_cameraman_gray).show()\n",
    "toimage(im_cameraman_applied).show()\n",
    "toimage(im_cameraman_applied2).show()\n",
    "\n",
    "#image house\n",
    "toimage(im_house_gray).show()\n",
    "toimage(im_house_applied).show()\n",
    "toimage(im_house_applied2).show()\n",
    "\n",
    "#image lena\n",
    "toimage(im_lena_gray).show()\n",
    "toimage(im_lena_applied).show()\n",
    "toimage(im_lena_applied2).show()\n",
    "\n"
   ]
  },
  {
   "cell_type": "markdown",
   "metadata": {},
   "source": [
    "Cameraman -\n",
    "1. The original grayscale image is the sharpest. \n",
    "2. The image with sigma = 2.5 is \"dull\" in the sense  that the image seems to be more gray and use a smaller range of values. \n",
    "3. The image with sigma = 0.75 is not as sharp as the original but also still clearer than the image with sigma = 2.5\n",
    "\n",
    "House\n",
    "1. The original grayscale image is the least sharp of the images.\n",
    "2. The image with sigma = 2.5 is the sharpest. Specifically, the contrast between the bricks and the house gutter is more sharp.\n",
    "3. image with simage = 0.75 is sharper than the original but not as sharp as sigma=2.5\n",
    "\n",
    "\n",
    "Lena\n",
    "1. Like the cameraman, the original is the sharpest. Though, the image with sigma= 0.75 is almost as sharp.\n",
    "2. The image with Sigma = 2.5 is not as sharp.\n",
    "\n"
   ]
  },
  {
   "cell_type": "code",
   "execution_count": 141,
   "metadata": {
    "collapsed": true
   },
   "outputs": [],
   "source": []
  },
  {
   "cell_type": "code",
   "execution_count": null,
   "metadata": {
    "collapsed": true
   },
   "outputs": [],
   "source": []
  }
 ],
 "metadata": {
  "kernelspec": {
   "display_name": "Python 2",
   "language": "python",
   "name": "python2"
  },
  "language_info": {
   "codemirror_mode": {
    "name": "ipython",
    "version": 2
   },
   "file_extension": ".py",
   "mimetype": "text/x-python",
   "name": "python",
   "nbconvert_exporter": "python",
   "pygments_lexer": "ipython2",
   "version": "2.7.10"
  }
 },
 "nbformat": 4,
 "nbformat_minor": 0
}
