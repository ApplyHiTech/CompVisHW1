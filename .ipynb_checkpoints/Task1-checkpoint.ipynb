{
 "cells": [
  {
   "cell_type": "code",
   "execution_count": 108,
   "metadata": {
    "collapsed": false
   },
   "outputs": [
    {
     "name": "stdout",
     "output_type": "stream",
     "text": [
      "[[0, 0, 0, 0, 0, 0, 0], [0, 0, 0, 0, 0, 0, 0], [0, 0, 0, 0, 1, 0, 1], [0, 0, 0, 1, 2, 2, 2], [0, 0, 1, 1, 4, 4, 4], [0, 0, 0, 1, 4, 4, 4], [0, 0, 0, 1, 3, 4, 4]]\n"
     ]
    }
   ],
   "source": [
    "import numpy as np\n",
    "import pandas as pd\n",
    "\n",
    "m = [[4, 1, 6, 1, 3],\n",
    "     [3, 2, 7, 7, 2],\n",
    "     [2 ,5 ,7, 3, 7],\n",
    "     [1, 4, 7 ,1 ,3],\n",
    "     [0 ,1 ,6 ,4 ,4]]\n",
    "numrows = len(m)    \n",
    "numcols = len(m[0])\n",
    "\n",
    "m_2=[[0,0,0,0,0,0,0],\n",
    "     [0,0,0,0,0,0,0],\n",
    "     [0,0,0,0,0,0,0],\n",
    "     [0,0,0,0,0,0,0],\n",
    "     [0,0,0,0,0,0,0],\n",
    "     [0,0,0,0,0,0,0],\n",
    "     [0,0,0,0,0,0,0]]\n",
    "\n",
    "#Copy 2D-Array\n",
    "for i in range(2, numrows+2):\n",
    "    for j in range(2,numcols+2):\n",
    "        m_2[i][j]=m[i-2][j-2]\n",
    "\n",
    "sol=[[0,0,0,0,0,0,0],\n",
    "     [0,0,0,0,0,0,0],\n",
    "     [0,0,0,0,0,0,0],\n",
    "     [0,0,0,0,0,0,0],\n",
    "     [0,0,0,0,0,0,0],\n",
    "     [0,0,0,0,0,0,0],\n",
    "     [0,0,0,0,0,0,0]]\n",
    "\n",
    "#Compute 3x3 mean filter\n",
    "for i in range(2,numrows+2):\n",
    "     for j in range(2,numcols+2):\n",
    "        sol[i][j]=(\n",
    "                    m_2[i-2][j-2]+m_2[i-2][j-1]+m_2[i-2][j]+\n",
    "                    m_2[i-1][j-2]+m_2[i-1][j-1]+m_2[i-1][j]+\n",
    "                    m_2[i][j-2]+m_2[i][j-1]+m_2[i][j])/9\n",
    "        \n",
    "\n",
    "            "
   ]
  },
  {
   "cell_type": "markdown",
   "metadata": {},
   "source": [
    "1. Convolve the following sub-image with a normalized 33 mean filter. What is the output?"
   ]
  },
  {
   "cell_type": "code",
   "execution_count": 109,
   "metadata": {
    "collapsed": false
   },
   "outputs": [
    {
     "name": "stdout",
     "output_type": "stream",
     "text": [
      "[[0, 0, 0, 0, 0, 0, 0], [0, 0, 0, 0, 0, 0, 0], [0, 0, 0, 0, 1, 0, 1], [0, 0, 0, 1, 2, 2, 2], [0, 0, 1, 1, 4, 4, 4], [0, 0, 0, 1, 4, 4, 4], [0, 0, 0, 1, 3, 4, 4]]\n"
     ]
    }
   ],
   "source": [
    "print sol"
   ]
  },
  {
   "cell_type": "code",
   "execution_count": 32,
   "metadata": {
    "collapsed": false
   },
   "outputs": [
    {
     "ename": "NameError",
     "evalue": "name 'y' is not defined",
     "output_type": "error",
     "traceback": [
      "\u001b[0;31m---------------------------------------------------------------------------\u001b[0m",
      "\u001b[0;31mNameError\u001b[0m                                 Traceback (most recent call last)",
      "\u001b[0;32m<ipython-input-32-009520053b00>\u001b[0m in \u001b[0;36m<module>\u001b[0;34m()\u001b[0m\n\u001b[0;32m----> 1\u001b[0;31m \u001b[0my\u001b[0m\u001b[0;34m\u001b[0m\u001b[0m\n\u001b[0m",
      "\u001b[0;31mNameError\u001b[0m: name 'y' is not defined"
     ]
    }
   ],
   "source": []
  },
  {
   "cell_type": "code",
   "execution_count": null,
   "metadata": {
    "collapsed": true
   },
   "outputs": [],
   "source": []
  }
 ],
 "metadata": {
  "kernelspec": {
   "display_name": "Python 2",
   "language": "python",
   "name": "python2"
  },
  "language_info": {
   "codemirror_mode": {
    "name": "ipython",
    "version": 2
   },
   "file_extension": ".py",
   "mimetype": "text/x-python",
   "name": "python",
   "nbconvert_exporter": "python",
   "pygments_lexer": "ipython2",
   "version": "2.7.10"
  }
 },
 "nbformat": 4,
 "nbformat_minor": 0
}
