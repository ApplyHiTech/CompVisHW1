{
 "cells": [
  {
   "cell_type": "code",
   "execution_count": 71,
   "metadata": {
    "collapsed": false
   },
   "outputs": [],
   "source": [
    "import numpy as np\n",
    "import pandas as pd\n",
    "import math\n",
    "\n",
    "m = [[4, 1, 6, 1, 3],\n",
    "     [3, 2, 7, 7, 2],\n",
    "     [2, 5, 7, 3, 7],\n",
    "     [1, 4, 7, 1, 3],\n",
    "     [0, 1, 6, 4, 4]]\n",
    "numrows = len(m)    \n",
    "numcols = len(m[0])\n",
    "\n",
    "m_2=[[0,0,0,0,0,0,0],\n",
    "     [0,0,0,0,0,0,0],\n",
    "     [0,0,0,0,0,0,0],\n",
    "     [0,0,0,0,0,0,0],\n",
    "     [0,0,0,0,0,0,0],\n",
    "     [0,0,0,0,0,0,0],\n",
    "     [0,0,0,0,0,0,0]]\n",
    "\n",
    "#Copy 2D-Array\n",
    "for i in range(2, numrows+2):\n",
    "    for j in range(2,numcols+2):\n",
    "        m_2[i][j]=m[i-2][j-2]\n",
    "\n",
    "sol_mean=[   [0,0,0,0,0,0,0],\n",
    "             [0,0,0,0,0,0,0],\n",
    "             [0,0,0,0,0,0,0],\n",
    "             [0,0,0,0,0,0,0],\n",
    "             [0,0,0,0,0,0,0],\n",
    "             [0,0,0,0,0,0,0],\n",
    "             [0,0,0,0,0,0,0]]\n",
    "\n",
    "#Compute 3x3 mean filter\n",
    "for i in range(2,numrows+2):\n",
    "     for j in range(2,numcols+2):\n",
    "        sol_mean[i][j]=np.mean([\n",
    "                    m_2[i-2][j-2],m_2[i-2][j-1],m_2[i-2][j],\n",
    "                    m_2[i-1][j-2],m_2[i-1][j-1],m_2[i-1][j],\n",
    "                    m_2[i][j-2],m_2[i][j-1],m_2[i][j]])\n",
    "    \n",
    "            "
   ]
  },
  {
   "cell_type": "markdown",
   "metadata": {},
   "source": [
    "1) Convolve the following sub-image with a normalized 33 mean filter. What is the output?"
   ]
  },
  {
   "cell_type": "code",
   "execution_count": 3,
   "metadata": {
    "collapsed": false
   },
   "outputs": [
    {
     "name": "stdout",
     "output_type": "stream",
     "text": [
      "[[0, 0, 0, 0, 0, 0, 0], [0, 0, 0, 0, 0, 0, 0], [0, 0, 0.44444444444444442, 0.55555555555555558, 1.2222222222222223, 0.88888888888888884, 1.1111111111111112], [0, 0, 0.77777777777777779, 1.1111111111111112, 2.5555555555555554, 2.6666666666666665, 2.8888888888888888], [0, 0, 1.0, 1.8888888888888888, 4.1111111111111107, 4.333333333333333, 4.7777777777777777], [0, 0, 0.66666666666666663, 1.8888888888888888, 4.2222222222222223, 4.7777777777777777, 4.8888888888888893], [0, 0, 0.33333333333333331, 1.4444444444444444, 3.6666666666666665, 4.2222222222222223, 4.666666666666667]]\n"
     ]
    }
   ],
   "source": [
    "print sol_mean"
   ]
  },
  {
   "cell_type": "markdown",
   "metadata": {},
   "source": [
    "2) Redo the convolution with a median filter. "
   ]
  },
  {
   "cell_type": "code",
   "execution_count": 4,
   "metadata": {
    "collapsed": false
   },
   "outputs": [
    {
     "name": "stdout",
     "output_type": "stream",
     "text": [
      "[[0, 0, 0, 0, 0, 0, 0], [0, 0, 0, 0, 0, 0, 0], [0, 0, 0.0, 0.0, 0.0, 0.0, 0.0], [0, 0, 0.0, 0.0, 2.0, 1.0, 2.0], [0, 0, 0.0, 2.0, 4.0, 5.0, 6.0], [0, 0, 0.0, 2.0, 4.0, 5.0, 7.0], [0, 0, 0.0, 1.0, 4.0, 4.0, 4.0]]\n"
     ]
    }
   ],
   "source": [
    "#Compute 3x3 mean filter\n",
    "sol_median=[ [0,0,0,0,0,0,0],\n",
    "             [0,0,0,0,0,0,0],\n",
    "             [0,0,0,0,0,0,0],\n",
    "             [0,0,0,0,0,0,0],\n",
    "             [0,0,0,0,0,0,0],\n",
    "             [0,0,0,0,0,0,0],\n",
    "             [0,0,0,0,0,0,0]]\n",
    "\n",
    "for i in range(2,numrows+2):\n",
    "     for j in range(2,numcols+2):\n",
    "        sol_median[i][j]=np.median([\n",
    "                    m_2[i-2][j-2],m_2[i-2][j-1],m_2[i-2][j],\n",
    "                    m_2[i-1][j-2],m_2[i-1][j-1],m_2[i-1][j],\n",
    "                    m_2[i][j-2],m_2[i][j-1],m_2[i][j]])\n",
    "    \n",
    "print sol_median"
   ]
  },
  {
   "cell_type": "markdown",
   "metadata": {},
   "source": [
    "What is the difference from item 1?"
   ]
  },
  {
   "cell_type": "code",
   "execution_count": 6,
   "metadata": {
    "collapsed": false
   },
   "outputs": [],
   "source": [
    "sol_diff=  [ [0,0,0,0,0,0,0],\n",
    "             [0,0,0,0,0,0,0],\n",
    "             [0,0,0,0,0,0,0],\n",
    "             [0,0,0,0,0,0,0],\n",
    "             [0,0,0,0,0,0,0],\n",
    "             [0,0,0,0,0,0,0],\n",
    "             [0,0,0,0,0,0,0]]\n",
    "\n",
    "for i in range(0,len(sol_diff)):\n",
    "    for j in range(0,len(sol_diff[0])):\n",
    "        sol_diff[i][j] = sol_mean[i][j]-sol_median[i][j]"
   ]
  },
  {
   "cell_type": "markdown",
   "metadata": {
    "collapsed": true
   },
   "source": [
    "#3 For the same sub-image, find the gradient magnitude and gradient direction at the center entry using the Sobel operator."
   ]
  },
  {
   "cell_type": "code",
   "execution_count": 76,
   "metadata": {
    "collapsed": false
   },
   "outputs": [],
   "source": [
    "sobel_x =np.matrix([\n",
    "             [-1,0,1],\n",
    "             [-2,0,2],\n",
    "             [-1,0,1]])\n",
    "\n",
    "sobel_y =np.matrix([\n",
    "             [1,2,1],\n",
    "             [0,0,0],\n",
    "             [-1,-2,-1]])\n",
    "m_middle = np.matrix([[2,7,7],\n",
    "                    [5,7,3],\n",
    "                    [4,7,1]])\n",
    "def convolve(m,g):\n",
    "    return m[2].item(2)*g[0].item(0)+m[2].item(1)*g[0].item(1)+m[2].item(0)*g[0].item(2)+m[1].item(2)*g[1].item(0)+m[1].item(1)*g[1].item(1)+m[1].item(0)*g[1].item(2)+m[0].item(2)*g[2].item(0)+m[0].item(1)*g[2].item(1)+m[0].item(0)*g[2].item(2)\n",
    "\n",
    "def grad_magnitude(m):\n",
    "    g_x = convolve(m_middle,sobel_x)\n",
    "    g_y = convolve(m_middle,sobel_y)\n",
    "    return math.sqrt(math.pow(g_x,2)+math.pow(g_y,2))\n",
    "\n",
    "def grad_direction(m):\n",
    "    g_x = convolve(m_middle,sobel_x)\n",
    "    g_y = convolve(m_middle,sobel_y)\n",
    "    return math.atan(g_y/g_x)"
   ]
  },
  {
   "cell_type": "code",
   "execution_count": 79,
   "metadata": {
    "collapsed": false
   },
   "outputs": [
    {
     "data": {
      "text/plain": [
       "4.47213595499958"
      ]
     },
     "execution_count": 79,
     "metadata": {},
     "output_type": "execute_result"
    }
   ],
   "source": [
    "#Gradient Magnitude\n",
    "grad_magnitude(m_middle)"
   ]
  },
  {
   "cell_type": "code",
   "execution_count": 78,
   "metadata": {
    "collapsed": false
   },
   "outputs": [
    {
     "data": {
      "text/plain": [
       "-1.1071487177940906"
      ]
     },
     "execution_count": 78,
     "metadata": {},
     "output_type": "execute_result"
    }
   ],
   "source": [
    "grad_direction(m_middle)"
   ]
  },
  {
   "cell_type": "code",
   "execution_count": null,
   "metadata": {
    "collapsed": true
   },
   "outputs": [],
   "source": []
  }
 ],
 "metadata": {
  "kernelspec": {
   "display_name": "Python 2",
   "language": "python",
   "name": "python2"
  },
  "language_info": {
   "codemirror_mode": {
    "name": "ipython",
    "version": 2
   },
   "file_extension": ".py",
   "mimetype": "text/x-python",
   "name": "python",
   "nbconvert_exporter": "python",
   "pygments_lexer": "ipython2",
   "version": "2.7.10"
  }
 },
 "nbformat": 4,
 "nbformat_minor": 0
}
